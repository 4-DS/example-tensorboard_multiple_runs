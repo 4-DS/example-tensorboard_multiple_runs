{
 "cells": [
  {
   "cell_type": "code",
   "execution_count": null,
   "id": "e6b1b9b6",
   "metadata": {
    "cellId": "z1pg0pvkfppap5pmdkrqa"
   },
   "outputs": [],
   "source": [
    "%load_ext autoreload\n",
    "%autoreload 2"
   ]
  },
  {
   "cell_type": "code",
   "execution_count": null,
   "id": "f003d9bb",
   "metadata": {
    "cellId": "gy5977li0o58skjdsr85tg"
   },
   "outputs": [],
   "source": [
    "#1 copy a test parquet\n",
    "import os\n",
    "import shutil\n",
    "\n",
    "os.environ[\"DSML_CURR_RUN_ID\"]=\"run-00-01-01-000000\"\n",
    "current_runid = os.getenv(\"DSML_CURR_RUN_ID\")\n",
    "\n",
    "!wget https://github.com/apache/parquet-testing/raw/master/data/alltypes_dictionary.parquet -O test.parquet"
   ]
  },
  {
   "cell_type": "code",
   "execution_count": null,
   "id": "44e013ff",
   "metadata": {
    "cellId": "4q975fjv1mj6i4snkfyhde",
    "tags": [
     "params"
    ]
   },
   "outputs": [],
   "source": [
    "#2. specify parameters\n",
    "pipeline_params={\n",
    "    \"X\": \"something\"\n",
    "}\n",
    "step_params={\n",
    "    \"X\": \"something_else\"\n",
    "}\n",
    "substep_params={\n",
    "    \"param1\":\"None1\",\n",
    "    \"param2\":\"None2\"}"
   ]
  },
  {
   "cell_type": "code",
   "execution_count": null,
   "id": "d60812fe-837d-4212-baae-6e5c67e9a9f3",
   "metadata": {
    "tags": []
   },
   "outputs": [],
   "source": [
    "#3 Specific infra\n",
    "import os\n",
    "os.environ[\"INFRA_NAME\"] = \"local_filesystem\"\n",
    "\n",
    "from sinara.common import importSinaraModuleClass"
   ]
  },
  {
   "cell_type": "code",
   "execution_count": null,
   "id": "81c2c252",
   "metadata": {
    "cellId": "h62pzpqd48t5ipm8umy985"
   },
   "outputs": [],
   "source": [
    "from sinara.substep import NotebookSubstep, default_param_values, ENV_NAME, PIPELINE_NAME, ZONE_NAME, STEP_NAME, RUN_ID, ENTITY_NAME, ENTITY_PATH, SUBSTEP_NAME\n",
    "SinaraConfig = importSinaraModuleClass(module_name = \"config\", class_name = \"SinaraConfig\")\n",
    "SinaraFileSystem = importSinaraModuleClass(module_name = \"fs\", class_name = \"SinaraFileSystem\")\n",
    "\n",
    "substep = NotebookSubstep(pipeline_params, step_params, substep_params, **default_param_values(\"params/step_params.json\"))\n",
    "\n",
    "substep.interface(\n",
    "   \n",
    "    custom_outputs = \n",
    "    [\n",
    "        { ENTITY_NAME: \"entityA\", ENTITY_PATH: f\"/data/home/{SinaraConfig.get_user()}/pipeline/zone/prev_step/{current_runid}/entityA\" },\n",
    "        { ENTITY_NAME: \"entityB\", ENTITY_PATH: f\"/data/home/{SinaraConfig.get_user()}/pipeline/zone/prev_step/{current_runid}/entityB\"  },\n",
    "        { ENTITY_NAME: \"entityC\", ENTITY_PATH: f\"/data/home/{SinaraConfig.get_user()}/pipeline/zone/prev_step/{current_runid}/entityC\"  },\n",
    "        { ENTITY_NAME: \"entityI\", ENTITY_PATH: f\"/data/preprod/other_pipeline/monthly_run/ext_step/{current_runid}/entityI\"  },\n",
    "        { ENTITY_NAME: \"entityJ\", ENTITY_PATH: f\"/data/home/{SinaraConfig.get_user()}/other_pipeline2/zone0/ext_step2/{current_runid}/entityJ\"  },\n",
    "        \n",
    "        { ENTITY_NAME: \"entityM\", ENTITY_PATH: f\"/data/tmp/user/pipeline/zone/step_template/{current_runid}/entityM\"  },\n",
    "        { ENTITY_NAME: \"entityN\", ENTITY_PATH: f\"/data/tmp/user/pipeline/zone/step_template/{current_runid}/entityN\"  }\n",
    "    ]\n",
    ")\n",
    "\n",
    "substep.print_interface_info()"
   ]
  },
  {
   "cell_type": "code",
   "execution_count": null,
   "id": "a1cd2dd7-332a-4134-9e6c-0a03ff172c3b",
   "metadata": {
    "tags": []
   },
   "outputs": [],
   "source": [
    "from sinara.store import SinaraStore\n",
    "outputs = substep.custom_outputs()\n",
    "\n",
    "SinaraStore.write_entity(file_path='./test.parquet', store_file_path=outputs.entityA + '/test.parquet')\n",
    "SinaraStore.write_entity(file_path='./test.parquet', store_file_path=outputs.entityB + '/test.parquet')\n",
    "SinaraStore.write_entity(file_path='./test.parquet', store_file_path=outputs.entityC + '/test.parquet')\n",
    "SinaraStore.write_entity(file_path='./test.parquet', store_file_path=outputs.entityI + '/test.parquet')\n",
    "SinaraStore.write_entity(file_path='./test.parquet', store_file_path=outputs.entityJ + '/test.parquet')\n",
    "SinaraStore.write_entity(file_path='./test.parquet', store_file_path=outputs.entityM + '/test.parquet')\n",
    "SinaraStore.write_entity(file_path='./test.parquet', store_file_path=outputs.entityN + '/test.parquet')\n"
   ]
  },
  {
   "cell_type": "code",
   "execution_count": null,
   "id": "ce9bf68b",
   "metadata": {
    "cellId": "sj8x1d8nev85jcvcf99lx",
    "tags": []
   },
   "outputs": [],
   "source": [
    "!rm -f test.parquet"
   ]
  },
  {
   "cell_type": "code",
   "execution_count": null,
   "id": "3424c7cc",
   "metadata": {
    "cellId": "dg6qxpk164j5n00c1rnxti",
    "tags": []
   },
   "outputs": [],
   "source": [
    "#!c1.4\n"
   ]
  },
  {
   "cell_type": "code",
   "execution_count": null,
   "id": "463d97cf-7ad2-4dfd-a888-07cba2077b76",
   "metadata": {},
   "outputs": [],
   "source": []
  }
 ],
 "metadata": {
  "kernelspec": {
   "display_name": "cv",
   "language": "python",
   "name": "cv"
  },
  "language_info": {
   "codemirror_mode": {
    "name": "ipython",
    "version": 3
   },
   "file_extension": ".py",
   "mimetype": "text/x-python",
   "name": "python",
   "nbconvert_exporter": "python",
   "pygments_lexer": "ipython3",
   "version": "3.9.10"
  },
  "notebookId": "81896294-5c96-4bae-9524-776ba76667b7",
  "notebookPath": "step_template/Init_Data.ipynb"
 },
 "nbformat": 4,
 "nbformat_minor": 5
}
