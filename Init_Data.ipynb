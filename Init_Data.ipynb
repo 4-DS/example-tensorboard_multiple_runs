{
 "cells": [
  {
   "cell_type": "code",
   "execution_count": 1,
   "id": "e6b1b9b6",
   "metadata": {
    "cellId": "z1pg0pvkfppap5pmdkrqa"
   },
   "outputs": [],
   "source": [
    "%load_ext autoreload\n",
    "%autoreload 2"
   ]
  },
  {
   "cell_type": "code",
   "execution_count": 2,
   "id": "f003d9bb",
   "metadata": {
    "cellId": "gy5977li0o58skjdsr85tg"
   },
   "outputs": [
    {
     "name": "stdout",
     "output_type": "stream",
     "text": [
      "--2023-10-09 15:45:30--  https://github.com/apache/parquet-testing/raw/master/data/alltypes_dictionary.parquet\n",
      "Resolving github.com (github.com)... 140.82.121.4\n",
      "Connecting to github.com (github.com)|140.82.121.4|:443... connected.\n",
      "HTTP request sent, awaiting response... 302 Found\n",
      "Location: https://raw.githubusercontent.com/apache/parquet-testing/master/data/alltypes_dictionary.parquet [following]\n",
      "--2023-10-09 15:45:30--  https://raw.githubusercontent.com/apache/parquet-testing/master/data/alltypes_dictionary.parquet\n",
      "Resolving raw.githubusercontent.com (raw.githubusercontent.com)... 185.199.109.133, 185.199.110.133, 185.199.111.133, ...\n",
      "Connecting to raw.githubusercontent.com (raw.githubusercontent.com)|185.199.109.133|:443... connected.\n",
      "HTTP request sent, awaiting response... 200 OK\n",
      "Length: 1698 (1.7K) [application/octet-stream]\n",
      "Saving to: ‘test.parquet’\n",
      "\n",
      "test.parquet        100%[===================>]   1.66K  --.-KB/s    in 0s      \n",
      "\n",
      "2023-10-09 15:45:31 (19.6 MB/s) - ‘test.parquet’ saved [1698/1698]\n",
      "\n"
     ]
    }
   ],
   "source": [
    "#1 copy a test parquet\n",
    "import os\n",
    "import shutil\n",
    "\n",
    "os.environ[\"DSML_CURR_RUN_ID\"]=\"run-00-01-01-000000\"\n",
    "current_runid = os.getenv(\"DSML_CURR_RUN_ID\")\n",
    "\n",
    "!wget https://github.com/apache/parquet-testing/raw/master/data/alltypes_dictionary.parquet -O test.parquet"
   ]
  },
  {
   "cell_type": "code",
   "execution_count": 3,
   "id": "44e013ff",
   "metadata": {
    "cellId": "4q975fjv1mj6i4snkfyhde",
    "tags": [
     "params"
    ]
   },
   "outputs": [],
   "source": [
    "#2. specify parameters\n",
    "pipeline_params={\n",
    "    \"X\": \"something\"\n",
    "}\n",
    "step_params={\n",
    "    \"X\": \"something_else\"\n",
    "}\n",
    "substep_params={\n",
    "    \"param1\":\"None1\",\n",
    "    \"param2\":\"None2\"}"
   ]
  },
  {
   "cell_type": "code",
   "execution_count": 4,
   "id": "81c2c252",
   "metadata": {
    "cellId": "h62pzpqd48t5ipm8umy985"
   },
   "outputs": [
    {
     "data": {
      "text/markdown": [
       "**CUSTOM OUTPUTS:**\n"
      ],
      "text/plain": [
       "<IPython.core.display.Markdown object>"
      ]
     },
     "metadata": {},
     "output_type": "display_data"
    },
    {
     "name": "stdout",
     "output_type": "stream",
     "text": [
      "[{'entityA': '/data/home/jovyan/pipeline/zone/prev_step/run-00-01-01-000000/entityA'},\n",
      " {'entityB': '/data/home/jovyan/pipeline/zone/prev_step/run-00-01-01-000000/entityB'},\n",
      " {'entityC': '/data/home/jovyan/pipeline/zone/prev_step/run-00-01-01-000000/entityC'},\n",
      " {'entityI': '/data/preprod/other_pipeline/monthly_run/ext_step/run-00-01-01-000000/entityI'},\n",
      " {'entityJ': '/data/home/jovyan/other_pipeline2/zone0/ext_step2/run-00-01-01-000000/entityJ'},\n",
      " {'entityM': '/data/tmp/user/pipeline/zone/step_template/run-00-01-01-000000/entityM'},\n",
      " {'entityN': '/data/tmp/user/pipeline/zone/step_template/run-00-01-01-000000/entityN'}]\n",
      "\n",
      "\n"
     ]
    }
   ],
   "source": [
    "from sinara.substep import NotebookSubstep, default_param_values, ENV_NAME, PIPELINE_NAME, ZONE_NAME, STEP_NAME, RUN_ID, ENTITY_NAME, ENTITY_PATH, SUBSTEP_NAME\n",
    "from sinara.infra.env import get_user\n",
    "from sinara.fs import SinaraFileSystem\n",
    "from sinara.fs.localfs import SinaraLocalFileSystem\n",
    "\n",
    "substep = NotebookSubstep(pipeline_params, step_params, substep_params, **default_param_values(\"params/step_params.json\"))\n",
    "\n",
    "substep.interface(\n",
    "   \n",
    "    custom_outputs = \n",
    "    [\n",
    "        { ENTITY_NAME: \"entityA\", ENTITY_PATH: f\"/data/home/{get_user()}/pipeline/zone/prev_step/{current_runid}/entityA\" },\n",
    "        { ENTITY_NAME: \"entityB\", ENTITY_PATH: f\"/data/home/{get_user()}/pipeline/zone/prev_step/{current_runid}/entityB\"  },\n",
    "        { ENTITY_NAME: \"entityC\", ENTITY_PATH: f\"/data/home/{get_user()}/pipeline/zone/prev_step/{current_runid}/entityC\"  },\n",
    "        { ENTITY_NAME: \"entityI\", ENTITY_PATH: f\"/data/preprod/other_pipeline/monthly_run/ext_step/{current_runid}/entityI\"  },\n",
    "        { ENTITY_NAME: \"entityJ\", ENTITY_PATH: f\"/data/home/{get_user()}/other_pipeline2/zone0/ext_step2/{current_runid}/entityJ\"  },\n",
    "        \n",
    "        { ENTITY_NAME: \"entityM\", ENTITY_PATH: f\"/data/tmp/user/pipeline/zone/step_template/{current_runid}/entityM\"  },\n",
    "        { ENTITY_NAME: \"entityN\", ENTITY_PATH: f\"/data/tmp/user/pipeline/zone/step_template/{current_runid}/entityN\"  }\n",
    "    ]\n",
    ")\n",
    "\n",
    "substep.print_interface_info()"
   ]
  },
  {
   "cell_type": "code",
   "execution_count": 5,
   "id": "348ae9ee",
   "metadata": {
    "cellId": "56ebioae16os8y8c24whf"
   },
   "outputs": [],
   "source": [
    "outputs = substep.custom_outputs()\n",
    "\n",
    "fs = SinaraFileSystem.FileSystem()\n",
    "\n",
    "fs.makedirs(outputs.entityA)\n",
    "fs.put('./test.parquet', outputs.entityA + '/test.parquet')\n",
    "fs.touch(outputs.entityA + '/_SUCCESS')\n",
    "\n",
    "fs.makedirs(outputs.entityB)\n",
    "fs.put('./test.parquet', outputs.entityB + '/test.parquet')\n",
    "fs.touch(outputs.entityB + '/_SUCCESS')\n",
    "\n",
    "fs.makedirs(outputs.entityC)\n",
    "fs.put('./test.parquet', outputs.entityC + '/test.parquet')\n",
    "fs.touch(outputs.entityC + '/_SUCCESS')\n",
    "\n",
    "fs.makedirs(outputs.entityI)\n",
    "fs.put('./test.parquet', outputs.entityI + '/test.parquet')\n",
    "fs.touch(outputs.entityI + '/_SUCCESS')\n",
    "\n",
    "fs.makedirs(outputs.entityJ)\n",
    "fs.put('./test.parquet', outputs.entityJ + '/test.parquet')\n",
    "fs.touch(outputs.entityJ + '/_SUCCESS')\n",
    "\n",
    "fs.makedirs(outputs.entityM)\n",
    "fs.put('./test.parquet', outputs.entityM + '/test.parquet')\n",
    "fs.touch(outputs.entityM + '/_SUCCESS')\n",
    "\n",
    "fs.makedirs(outputs.entityN)\n",
    "fs.put('./test.parquet', outputs.entityN + '/test.parquet')\n",
    "fs.touch(outputs.entityN + '/_SUCCESS')"
   ]
  },
  {
   "cell_type": "code",
   "execution_count": 6,
   "id": "ce9bf68b",
   "metadata": {
    "cellId": "sj8x1d8nev85jcvcf99lx",
    "tags": []
   },
   "outputs": [],
   "source": [
    "!rm -f test.parquet"
   ]
  },
  {
   "cell_type": "code",
   "execution_count": 7,
   "id": "3424c7cc",
   "metadata": {
    "cellId": "dg6qxpk164j5n00c1rnxti",
    "tags": []
   },
   "outputs": [],
   "source": [
    "#!c1.4\n"
   ]
  },
  {
   "cell_type": "code",
   "execution_count": null,
   "id": "463d97cf-7ad2-4dfd-a888-07cba2077b76",
   "metadata": {},
   "outputs": [],
   "source": []
  }
 ],
 "metadata": {
  "kernelspec": {
   "display_name": "Python 3 (ipykernel)",
   "language": "python",
   "name": "python3"
  },
  "language_info": {
   "codemirror_mode": {
    "name": "ipython",
    "version": 3
   },
   "file_extension": ".py",
   "mimetype": "text/x-python",
   "name": "python",
   "nbconvert_exporter": "python",
   "pygments_lexer": "ipython3",
   "version": "3.10.9"
  },
  "notebookId": "81896294-5c96-4bae-9524-776ba76667b7",
  "notebookPath": "step_template/Init_Data.ipynb"
 },
 "nbformat": 4,
 "nbformat_minor": 5
}
