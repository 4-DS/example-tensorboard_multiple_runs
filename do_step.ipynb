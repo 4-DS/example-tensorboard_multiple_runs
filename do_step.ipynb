{
 "cells": [
  {
   "cell_type": "code",
   "execution_count": null,
   "id": "870a1090-f4ae-45a0-aa93-0960f5c6478d",
   "metadata": {
    "editable": true,
    "slideshow": {
     "slide_type": ""
    },
    "tags": []
   },
   "outputs": [],
   "source": [
    "%load_ext autoreload\n",
    "%load_ext tensorboard\n",
    "%autoreload 2"
   ]
  },
  {
   "cell_type": "code",
   "execution_count": null,
   "id": "453c78e8-6822-4123-bf9d-ed1ae9dd7bea",
   "metadata": {
    "editable": true,
    "slideshow": {
     "slide_type": ""
    },
    "tags": [
     "parameters"
    ]
   },
   "outputs": [],
   "source": [
    "# specify substep parameters for interactive run\n",
    "# this cell will be replaced during job run with the parameters from json within params subfolder\n",
    "substep_params={\n",
    "    \"param1\":\"None1\",\n",
    "    \"param2\":\"None2\"}"
   ]
  },
  {
   "cell_type": "code",
   "execution_count": null,
   "id": "50592002-8b5f-47bd-82a7-3489fd1f5b1c",
   "metadata": {
    "editable": false,
    "slideshow": {
     "slide_type": ""
    },
    "tags": []
   },
   "outputs": [],
   "source": [
    "# load pipeline and step parameters - do not edit\n",
    "from sinara.substep import get_pipeline_params, get_step_params\n",
    "pipeline_params = get_pipeline_params(pprint=True)\n",
    "step_params = get_step_params(pprint=True)"
   ]
  },
  {
   "cell_type": "code",
   "execution_count": null,
   "id": "f3818420-6085-43ea-b97e-578742794e1e",
   "metadata": {
    "editable": true,
    "slideshow": {
     "slide_type": ""
    },
    "tags": [
     "interface"
    ]
   },
   "outputs": [],
   "source": [
    "#3 define substep interface\n",
    "from sinara.substep import NotebookSubstep, ENV_NAME, PIPELINE_NAME, ZONE_NAME, STEP_NAME, RUN_ID, ENTITY_NAME, ENTITY_PATH, SUBSTEP_NAME\n",
    "\n",
    "substep = NotebookSubstep(pipeline_params, step_params, substep_params)\n",
    "\n",
    "substep.interface()\n",
    "\n",
    "substep.print_interface_info()\n",
    "\n",
    "substep.exit_in_visualize_mode()"
   ]
  },
  {
   "cell_type": "code",
   "execution_count": null,
   "id": "55e950c3-3151-4daf-9b98-83d3aebe216d",
   "metadata": {
    "tags": []
   },
   "outputs": [],
   "source": [
    "#4 run spark\n",
    "from sinara.spark import SinaraSpark\n",
    "\n",
    "spark = SinaraSpark.run_session(0)\n",
    "SinaraSpark.ui_url()"
   ]
  },
  {
   "cell_type": "code",
   "execution_count": null,
   "id": "70b2d9b3-051c-424c-beec-9da8f177b4ed",
   "metadata": {
    "editable": true,
    "slideshow": {
     "slide_type": ""
    },
    "tags": []
   },
   "outputs": [],
   "source": [
    "log_name = \"my_experiment_1\"\n",
    "\n",
    "tensorboard_log_dir, torch_writer_dir = substep.prepare_tensorbord_logs(log_name, copy_prev_logs=True)"
   ]
  },
  {
   "cell_type": "code",
   "execution_count": null,
   "id": "8d01cf6a-0218-4d11-90b2-9461102cbed2",
   "metadata": {
    "editable": true,
    "slideshow": {
     "slide_type": ""
    },
    "tags": []
   },
   "outputs": [],
   "source": [
    "help(substep.prepare_tensorbord_logs)"
   ]
  },
  {
   "cell_type": "code",
   "execution_count": null,
   "id": "e4669f31-c904-4990-bb14-a2fa881e16b3",
   "metadata": {},
   "outputs": [],
   "source": [
    "import random\n",
    "\n",
    "import torch\n",
    "from torch.utils.tensorboard import SummaryWriter\n",
    "\n",
    "writer = SummaryWriter(log_dir=torch_writer_dir)"
   ]
  },
  {
   "cell_type": "code",
   "execution_count": null,
   "id": "04f8c516-079f-4473-8564-1cf66344872c",
   "metadata": {
    "tags": []
   },
   "outputs": [],
   "source": [
    "# gen random lr, for all runs\n",
    "\n",
    "lr = round(random.random(), 2)\n",
    "print(f\"{lr=}\")"
   ]
  },
  {
   "cell_type": "code",
   "execution_count": null,
   "id": "758ff58f-3935-402f-82bf-2881a094cc60",
   "metadata": {
    "editable": true,
    "slideshow": {
     "slide_type": ""
    },
    "tags": []
   },
   "outputs": [],
   "source": [
    "x = torch.arange(-5, 5, 0.1).view(-1, 1)\n",
    "y = -5 * x + 0.1 * torch.randn(x.size())\n",
    "\n",
    "model = torch.nn.Linear(1, 1)\n",
    "criterion = torch.nn.MSELoss()\n",
    "optimizer = torch.optim.SGD(model.parameters(), lr=lr)\n",
    "\n",
    "\n",
    "def train_model(iter):\n",
    "    for epoch in range(iter):\n",
    "        y1 = model(x)\n",
    "        loss = criterion(y1, y)\n",
    "        writer.add_scalar(\"train/loss\", loss, epoch)\n",
    "        writer.add_scalar(\"train/lr\", lr, epoch)\n",
    "        optimizer.zero_grad()\n",
    "        loss.backward()\n",
    "        optimizer.step()\n",
    "\n",
    "\n",
    "train_model(10)\n",
    "writer.flush()"
   ]
  },
  {
   "cell_type": "code",
   "execution_count": null,
   "id": "a15ead35-ec00-4711-b6a5-e1017e9f83ba",
   "metadata": {},
   "outputs": [],
   "source": [
    "%tensorboard --logdir $tensorboard_log_dir"
   ]
  },
  {
   "cell_type": "code",
   "execution_count": null,
   "id": "82ef2430-57f2-42f4-a435-f50e1edd2c0b",
   "metadata": {
    "tags": []
   },
   "outputs": [],
   "source": [
    "#8 stop spark\n",
    "SinaraSpark.stop_session()"
   ]
  },
  {
   "cell_type": "code",
   "execution_count": null,
   "id": "e60a63e1-7919-4589-a26b-81ab35b2c609",
   "metadata": {
    "editable": true,
    "slideshow": {
     "slide_type": ""
    },
    "tags": []
   },
   "outputs": [],
   "source": []
  }
 ],
 "metadata": {
  "kernelspec": {
   "display_name": "cv",
   "language": "python",
   "name": "python3"
  },
  "language_info": {
   "codemirror_mode": {
    "name": "ipython",
    "version": 3
   },
   "file_extension": ".py",
   "mimetype": "text/x-python",
   "name": "python",
   "nbconvert_exporter": "python",
   "pygments_lexer": "ipython3",
   "version": "3.10.12"
  }
 },
 "nbformat": 4,
 "nbformat_minor": 5
}
