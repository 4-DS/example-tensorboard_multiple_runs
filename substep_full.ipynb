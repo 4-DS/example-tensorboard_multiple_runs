{
 "cells": [
  {
   "cell_type": "code",
   "execution_count": 1,
   "id": "870a1090-f4ae-45a0-aa93-0960f5c6478d",
   "metadata": {},
   "outputs": [],
   "source": [
    "%load_ext autoreload\n",
    "%autoreload 2"
   ]
  },
  {
   "cell_type": "code",
   "execution_count": 2,
   "id": "453c78e8-6822-4123-bf9d-ed1ae9dd7bea",
   "metadata": {
    "tags": [
     "params"
    ]
   },
   "outputs": [],
   "source": [
    "#2. specify parameters\n",
    "pipeline_params={\n",
    "    \"env_name\":\"user\",\n",
    "    \"pipeline_name\":\"pipeline0\",\n",
    "    \"zone_name\":\"zone0\",\n",
    "    \"X\": \"something\"\n",
    "}\n",
    "step_params={\n",
    "    \"X\": \"something_else\"\n",
    "}\n",
    "substep_params={\n",
    "    \"param1\":\"None1\",\n",
    "    \"param2\":\"None2\"}"
   ]
  },
  {
   "cell_type": "code",
   "execution_count": 3,
   "id": "f3818420-6085-43ea-b97e-578742794e1e",
   "metadata": {
    "tags": []
   },
   "outputs": [
    {
     "name": "stdout",
     "output_type": "stream",
     "text": [
      "/data/home/jovyan\n",
      "/data/home/jovyan/pipeline0/zone0/prev_step\n",
      "/data/home/jovyan\n",
      "/data/home/jovyan/pipeline0/zone0/prev_step\n",
      "/data/home/jovyan\n",
      "/data/home/jovyan/pipeline0/zone0/prev_step\n",
      "/data/prod2\n",
      "/data/prod2/other_pipeline/monthly_run/ext_step\n"
     ]
    },
    {
     "data": {
      "text/markdown": [
       "**INPUTS:**\n"
      ],
      "text/plain": [
       "<IPython.core.display.Markdown object>"
      ]
     },
     "metadata": {},
     "output_type": "display_data"
    },
    {
     "name": "stdout",
     "output_type": "stream",
     "text": [
      "[{'user.pipeline0.zone0.prev_step.entityA': '/data/home/jovyan/pipeline0/zone0/prev_step/run-00-01-01-000000/entityA'},\n",
      " {'user.pipeline0.zone0.prev_step.entityB': '/data/home/jovyan/pipeline0/zone0/prev_step/run-00-01-01-000000/entityB'},\n",
      " {'user.pipeline0.zone0.prev_step.entityC': '/data/home/jovyan/pipeline0/zone0/prev_step/run-00-01-01-000000/entityC'},\n",
      " {'prod2.other_pipeline.monthly_run.ext_step.entityI': '/data/prod2/other_pipeline/monthly_run/ext_step/run-00-01-01-000000/entityI'},\n",
      " {'user.other_pipeline2.zone0.ext_step2.entityJ': '/data/home/jovyan/other_pipeline2/zone0/ext_step2/run-00-01-01-000000/entityJ'}]\n",
      "\n",
      "\n"
     ]
    },
    {
     "data": {
      "text/markdown": [
       "**OUTPUTS:**\n"
      ],
      "text/plain": [
       "<IPython.core.display.Markdown object>"
      ]
     },
     "metadata": {},
     "output_type": "display_data"
    },
    {
     "name": "stdout",
     "output_type": "stream",
     "text": [
      "[{'user.pipeline0.zone0.step_template.entityF': '/data/home/jovyan/pipeline0/zone0/step_template/run-23-02-14-124400/entityF'},\n",
      " {'user.pipeline0.zone0.step_template.entityG': '/data/home/jovyan/pipeline0/zone0/step_template/run-23-02-14-124400/entityG'},\n",
      " {'user.pipeline0.zone0.step_template.entityH': '/data/home/jovyan/pipeline0/zone0/step_template/run-23-02-14-124400/entityH'}]\n",
      "\n",
      "\n"
     ]
    },
    {
     "data": {
      "text/markdown": [
       "**CUSTOM INPUTS:**\n"
      ],
      "text/plain": [
       "<IPython.core.display.Markdown object>"
      ]
     },
     "metadata": {},
     "output_type": "display_data"
    },
    {
     "name": "stdout",
     "output_type": "stream",
     "text": [
      "[{'entityE': '/data/something/entityE'}, {'entityD': '/data/something/entityD'}]\n",
      "\n",
      "\n"
     ]
    },
    {
     "data": {
      "text/markdown": [
       "**CUSTOM OUTPUTS:**\n"
      ],
      "text/plain": [
       "<IPython.core.display.Markdown object>"
      ]
     },
     "metadata": {},
     "output_type": "display_data"
    },
    {
     "name": "stdout",
     "output_type": "stream",
     "text": [
      "[{'entityK': '/data/something/entityK'}, {'entityL': '/data/something/entityL'}]\n",
      "\n",
      "\n"
     ]
    },
    {
     "data": {
      "text/markdown": [
       "**TMP INPUTS:**\n"
      ],
      "text/plain": [
       "<IPython.core.display.Markdown object>"
      ]
     },
     "metadata": {},
     "output_type": "display_data"
    },
    {
     "name": "stdout",
     "output_type": "stream",
     "text": [
      "[{'cache:user.pipeline0.zone0.step_template.entityM': '/data/cache/user/pipeline0/zone0/step_template/run-23-02-14-124400/entityM'},\n",
      " {'cache:user.pipeline0.zone0.step_template.entityN': '/data/cache/user/pipeline0/zone0/step_template/run-23-02-14-124400/entityN'}]\n",
      "\n",
      "\n"
     ]
    },
    {
     "data": {
      "text/markdown": [
       "**TMP OUTPUTS:**\n"
      ],
      "text/plain": [
       "<IPython.core.display.Markdown object>"
      ]
     },
     "metadata": {},
     "output_type": "display_data"
    },
    {
     "name": "stdout",
     "output_type": "stream",
     "text": [
      "[{'cache:user.pipeline0.zone0.step_template.entityF': '/data/cache/user/pipeline0/zone0/step_template/run-23-02-14-124400/entityF'},\n",
      " {'cache:user.pipeline0.zone0.step_template.entityG': '/data/cache/user/pipeline0/zone0/step_template/run-23-02-14-124400/entityG'},\n",
      " {'cache:user.pipeline0.zone0.step_template.entityH': '/data/cache/user/pipeline0/zone0/step_template/run-23-02-14-124400/entityH'}]\n",
      "\n",
      "\n"
     ]
    }
   ],
   "source": [
    "#3 define substep interface\n",
    "from sinara.substep import NotebookSubstep, ENV_NAME, PIPELINE_NAME, ZONE_NAME, STEP_NAME, RUN_ID, ENTITY_NAME, ENTITY_PATH, SUBSTEP_NAME\n",
    "\n",
    "substep = NotebookSubstep(pipeline_params, step_params, substep_params)\n",
    "\n",
    "substep.interface(\n",
    "   \n",
    "    inputs =\n",
    "    [\n",
    "        { STEP_NAME: \"prev_step\", ENTITY_NAME: \"entityA\" },\n",
    "        { STEP_NAME: \"prev_step\", ENTITY_NAME: \"entityB\" },\n",
    "        { STEP_NAME: \"prev_step\", ENTITY_NAME: \"entityC\" },\n",
    "        { STEP_NAME: \"ext_step\", ENTITY_NAME: \"entityI\", ENV_NAME: \"prod2\", PIPELINE_NAME: \"other_pipeline\", ZONE_NAME: \"monthly_run\" },\n",
    "        { STEP_NAME: \"ext_step2\", ENTITY_NAME: \"entityJ\", PIPELINE_NAME: \"other_pipeline2\", RUN_ID: \"run-00-01-01-000000\" }\n",
    "    ],\n",
    "    outputs = \n",
    "    [\n",
    "        { ENTITY_NAME: \"entityF\" },\n",
    "        { ENTITY_NAME: \"entityG\" },\n",
    "        { ENTITY_NAME: \"entityH\" }\n",
    "    ],\n",
    "    custom_inputs =\n",
    "    [\n",
    "        { ENTITY_NAME: \"entityE\", ENTITY_PATH: \"/data/something/entityE\" },\n",
    "        { ENTITY_NAME: \"entityD\", ENTITY_PATH: \"/data/something/entityD\" }\n",
    "    ],\n",
    "    custom_outputs =\n",
    "    [\n",
    "        { ENTITY_NAME: \"entityK\", ENTITY_PATH: \"/data/something/entityK\" },\n",
    "        { ENTITY_NAME: \"entityL\", ENTITY_PATH: \"/data/something/entityL\" }\n",
    "    ],\n",
    "    tmp_inputs =\n",
    "    [\n",
    "        { ENTITY_NAME: \"entityM\" },\n",
    "        { ENTITY_NAME: \"entityN\" },\n",
    "    ],\n",
    "    tmp_outputs =\n",
    "    [\n",
    "        { ENTITY_NAME: \"entityF\" },\n",
    "        { ENTITY_NAME: \"entityG\" },\n",
    "        { ENTITY_NAME: \"entityH\" }\n",
    "    ]\n",
    ")\n",
    "\n",
    "substep.print_interface_info()\n",
    "\n",
    "substep.exit_in_visualize_mode()"
   ]
  },
  {
   "cell_type": "code",
   "execution_count": 4,
   "id": "55e950c3-3151-4daf-9b98-83d3aebe216d",
   "metadata": {},
   "outputs": [
    {
     "name": "stdout",
     "output_type": "stream",
     "text": [
      "Session is run\n"
     ]
    },
    {
     "data": {
      "text/plain": [
       "'http://localhost:4040'"
      ]
     },
     "execution_count": 4,
     "metadata": {},
     "output_type": "execute_result"
    }
   ],
   "source": [
    "#4 run spark\n",
    "from sinara.spark import SinaraSpark\n",
    "\n",
    "spark = SinaraSpark.run_session(0)\n",
    "SinaraSpark.ui_url()"
   ]
  },
  {
   "cell_type": "code",
   "execution_count": 14,
   "id": "70b2d9b3-051c-424c-beec-9da8f177b4ed",
   "metadata": {},
   "outputs": [
    {
     "name": "stdout",
     "output_type": "stream",
     "text": [
      "InputUrls()\n",
      "\n",
      "\n"
     ]
    },
    {
     "ename": "AttributeError",
     "evalue": "'InputUrls' object has no attribute 'entityA'",
     "output_type": "error",
     "traceback": [
      "\u001b[0;31m---------------------------------------------------------------------------\u001b[0m",
      "\u001b[0;31mAttributeError\u001b[0m                            Traceback (most recent call last)",
      "Cell \u001b[0;32mIn[14], line 4\u001b[0m\n\u001b[1;32m      1\u001b[0m \u001b[38;5;66;03m#5 read inputs \u001b[39;00m\n\u001b[1;32m      2\u001b[0m prev_step_inputs \u001b[38;5;241m=\u001b[39m substep\u001b[38;5;241m.\u001b[39minputs(step_name\u001b[38;5;241m=\u001b[39m\u001b[38;5;124m\"\u001b[39m\u001b[38;5;124mprev_step\u001b[39m\u001b[38;5;124m\"\u001b[39m)\n\u001b[0;32m----> 4\u001b[0m dfA \u001b[38;5;241m=\u001b[39m spark\u001b[38;5;241m.\u001b[39mread\u001b[38;5;241m.\u001b[39mparquet(\u001b[43mprev_step_inputs\u001b[49m\u001b[38;5;241;43m.\u001b[39;49m\u001b[43mentityA\u001b[49m)\u001b[38;5;241m.\u001b[39mto_pandas_on_spark()\n\u001b[1;32m      5\u001b[0m dfB \u001b[38;5;241m=\u001b[39m spark\u001b[38;5;241m.\u001b[39mread\u001b[38;5;241m.\u001b[39mparquet(prev_step_inputs\u001b[38;5;241m.\u001b[39mentityB)\u001b[38;5;241m.\u001b[39mto_pandas_on_spark()\n\u001b[1;32m      6\u001b[0m dfC \u001b[38;5;241m=\u001b[39m spark\u001b[38;5;241m.\u001b[39mread\u001b[38;5;241m.\u001b[39mparquet(prev_step_inputs\u001b[38;5;241m.\u001b[39mentityC)\u001b[38;5;241m.\u001b[39mto_pandas_on_spark()\n",
      "\u001b[0;31mAttributeError\u001b[0m: 'InputUrls' object has no attribute 'entityA'"
     ]
    }
   ],
   "source": [
    "#5 read inputs \n",
    "prev_step_inputs = substep.inputs(step_name=\"prev_step\")\n",
    "\n",
    "dfA = spark.read.parquet(prev_step_inputs.entityA).to_pandas_on_spark()\n",
    "dfB = spark.read.parquet(prev_step_inputs.entityB).to_pandas_on_spark()\n",
    "dfC = spark.read.parquet(prev_step_inputs.entityC).to_pandas_on_spark()"
   ]
  },
  {
   "cell_type": "code",
   "execution_count": null,
   "id": "04f8c516-079f-4473-8564-1cf66344872c",
   "metadata": {},
   "outputs": [],
   "source": [
    "#6 make something to create artifacts\n",
    "\n",
    "dfF = dfA.to_spark()\n",
    "dfG = dfB.to_spark()\n",
    "dfH = dfC.to_spark()"
   ]
  },
  {
   "cell_type": "code",
   "execution_count": null,
   "id": "47c68c69-46d1-48d0-a239-fac8bf36c6fa",
   "metadata": {},
   "outputs": [],
   "source": [
    "#7 write outputs\n",
    "outputs = substep.outputs()\n",
    "\n",
    "dfF.write.parquet(outputs.entityF, mode='overwrite')\n",
    "dfG.write.parquet(outputs.entityG, mode='overwrite')\n",
    "dfH.write.parquet(outputs.entityH, mode='overwrite')\n",
    "\n",
    "custom_outputs = substep.custom_outputs()\n",
    "custom_inputs = substep.custom_inputs()\n",
    "tmp_inputs = substep.tmp_inputs()\n",
    "tmp_outputs = substep.tmp_outputs()"
   ]
  },
  {
   "cell_type": "code",
   "execution_count": null,
   "id": "82ef2430-57f2-42f4-a435-f50e1edd2c0b",
   "metadata": {},
   "outputs": [],
   "source": [
    "#8 stop spark\n",
    "SinaraSpark.stop_session()"
   ]
  }
 ],
 "metadata": {
  "kernelspec": {
   "display_name": "Python 3 (ipykernel)",
   "language": "python",
   "name": "python3"
  },
  "language_info": {
   "codemirror_mode": {
    "name": "ipython",
    "version": 3
   },
   "file_extension": ".py",
   "mimetype": "text/x-python",
   "name": "python",
   "nbconvert_exporter": "python",
   "pygments_lexer": "ipython3",
   "version": "3.10.8"
  }
 },
 "nbformat": 4,
 "nbformat_minor": 5
}
