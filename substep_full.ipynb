{
 "cells": [
  {
   "cell_type": "code",
   "execution_count": 1,
   "id": "870a1090-f4ae-45a0-aa93-0960f5c6478d",
   "metadata": {
    "tags": []
   },
   "outputs": [],
   "source": [
    "%load_ext autoreload\n",
    "%autoreload 2"
   ]
  },
  {
   "cell_type": "code",
   "execution_count": 2,
   "id": "453c78e8-6822-4123-bf9d-ed1ae9dd7bea",
   "metadata": {
    "tags": [
     "params"
    ]
   },
   "outputs": [],
   "source": [
    "#2. specify parameters\n",
    "pipeline_params={\n",
    "    \"X\": \"something\"\n",
    "}\n",
    "step_params={\n",
    "    \"X\": \"something_else\"\n",
    "}\n",
    "substep_params={\n",
    "    \"param1\":\"None1\",\n",
    "    \"param2\":\"None2\"}"
   ]
  },
  {
   "cell_type": "code",
   "execution_count": 3,
   "id": "f3818420-6085-43ea-b97e-578742794e1e",
   "metadata": {
    "tags": []
   },
   "outputs": [
    {
     "data": {
      "text/markdown": [
       "**INPUTS:**\n"
      ],
      "text/plain": [
       "<IPython.core.display.Markdown object>"
      ]
     },
     "metadata": {},
     "output_type": "display_data"
    },
    {
     "name": "stdout",
     "output_type": "stream",
     "text": [
      "[{'user.pipeline.zone.prev_step.entityA': '/data/home/jovyan/pipeline/zone/prev_step/run-00-01-01-000000/entityA'},\n",
      " {'user.pipeline.zone.prev_step.entityB': '/data/home/jovyan/pipeline/zone/prev_step/run-00-01-01-000000/entityB'},\n",
      " {'user.pipeline.zone.prev_step.entityC': '/data/home/jovyan/pipeline/zone/prev_step/run-00-01-01-000000/entityC'},\n",
      " {'prod2.other_pipeline.monthly_run.ext_step.entityI': '/data/preprod/other_pipeline/monthly_run/ext_step/run-00-01-01-000000/entityI'},\n",
      " {'user.other_pipeline2.zone.ext_step2.entityJ': '/data/home/jovyan/other_pipeline2/zone/ext_step2/run-00-01-01-000000/entityJ'}]\n",
      "\n",
      "\n"
     ]
    },
    {
     "data": {
      "text/markdown": [
       "**OUTPUTS:**\n"
      ],
      "text/plain": [
       "<IPython.core.display.Markdown object>"
      ]
     },
     "metadata": {},
     "output_type": "display_data"
    },
    {
     "name": "stdout",
     "output_type": "stream",
     "text": [
      "[{'user.pipeline.zone.step_template.entityF': '/data/home/jovyan/pipeline/zone/step_template/run-23-10-09-154554/entityF'},\n",
      " {'user.pipeline.zone.step_template.entityG': '/data/home/jovyan/pipeline/zone/step_template/run-23-10-09-154554/entityG'},\n",
      " {'user.pipeline.zone.step_template.entityH': '/data/home/jovyan/pipeline/zone/step_template/run-23-10-09-154554/entityH'}]\n",
      "\n",
      "\n"
     ]
    },
    {
     "data": {
      "text/markdown": [
       "**CUSTOM INPUTS:**\n"
      ],
      "text/plain": [
       "<IPython.core.display.Markdown object>"
      ]
     },
     "metadata": {},
     "output_type": "display_data"
    },
    {
     "name": "stdout",
     "output_type": "stream",
     "text": [
      "[{'entityE': '/data/something/entityE'}, {'entityD': '/data/something/entityD'}]\n",
      "\n",
      "\n"
     ]
    },
    {
     "data": {
      "text/markdown": [
       "**CUSTOM OUTPUTS:**\n"
      ],
      "text/plain": [
       "<IPython.core.display.Markdown object>"
      ]
     },
     "metadata": {},
     "output_type": "display_data"
    },
    {
     "name": "stdout",
     "output_type": "stream",
     "text": [
      "[{'entityK': '/data/something/entityK'}, {'entityL': '/data/something/entityL'}]\n",
      "\n",
      "\n"
     ]
    },
    {
     "data": {
      "text/markdown": [
       "**TMP INPUTS:**\n"
      ],
      "text/plain": [
       "<IPython.core.display.Markdown object>"
      ]
     },
     "metadata": {},
     "output_type": "display_data"
    },
    {
     "name": "stdout",
     "output_type": "stream",
     "text": [
      "[{'cache:user.pipeline.zone.step_template.entityM': '/data/tmp/user/pipeline/zone/step_template/run-23-10-09-154554/entityM'},\n",
      " {'cache:user.pipeline.zone.step_template.entityN': '/data/tmp/user/pipeline/zone/step_template/run-23-10-09-154554/entityN'}]\n",
      "\n",
      "\n"
     ]
    },
    {
     "data": {
      "text/markdown": [
       "**TMP OUTPUTS:**\n"
      ],
      "text/plain": [
       "<IPython.core.display.Markdown object>"
      ]
     },
     "metadata": {},
     "output_type": "display_data"
    },
    {
     "name": "stdout",
     "output_type": "stream",
     "text": [
      "[{'cache:user.pipeline.zone.step_template.entityF': '/data/tmp/user/pipeline/zone/step_template/run-23-10-09-154554/entityF'},\n",
      " {'cache:user.pipeline.zone.step_template.entityG': '/data/tmp/user/pipeline/zone/step_template/run-23-10-09-154554/entityG'},\n",
      " {'cache:user.pipeline.zone.step_template.entityH': '/data/tmp/user/pipeline/zone/step_template/run-23-10-09-154554/entityH'}]\n",
      "\n",
      "\n"
     ]
    }
   ],
   "source": [
    "#3 define substep interface\n",
    "from sinara.substep import NotebookSubstep, default_param_values, ENV_NAME, PIPELINE_NAME, ZONE_NAME, STEP_NAME, RUN_ID, ENTITY_NAME, ENTITY_PATH, SUBSTEP_NAME\n",
    "\n",
    "substep = NotebookSubstep(pipeline_params, step_params, substep_params, **default_param_values(\"params/step_params.json\"))\n",
    "\n",
    "substep.interface(\n",
    "   \n",
    "    inputs =\n",
    "    [\n",
    "        { STEP_NAME: \"prev_step\", ENTITY_NAME: \"entityA\", ZONE_NAME: \"zone\" },\n",
    "        { STEP_NAME: \"prev_step\", ENTITY_NAME: \"entityB\" },\n",
    "        { STEP_NAME: \"prev_step\", ENTITY_NAME: \"entityC\" },\n",
    "        { STEP_NAME: \"ext_step\", ENTITY_NAME: \"entityI\", ENV_NAME: \"prod2\", PIPELINE_NAME: \"other_pipeline\", ZONE_NAME: \"monthly_run\" },\n",
    "        { STEP_NAME: \"ext_step2\", ENTITY_NAME: \"entityJ\", PIPELINE_NAME: \"other_pipeline2\", RUN_ID: \"run-00-01-01-000000\" }\n",
    "    ],\n",
    "    outputs = \n",
    "    [\n",
    "        { ENTITY_NAME: \"entityF\" },\n",
    "        { ENTITY_NAME: \"entityG\" },\n",
    "        { ENTITY_NAME: \"entityH\" }\n",
    "    ],\n",
    "    custom_inputs =\n",
    "    [\n",
    "        { ENTITY_NAME: \"entityE\", ENTITY_PATH: \"/data/something/entityE\" },\n",
    "        { ENTITY_NAME: \"entityD\", ENTITY_PATH: \"/data/something/entityD\" }\n",
    "    ],\n",
    "    custom_outputs =\n",
    "    [\n",
    "        { ENTITY_NAME: \"entityK\", ENTITY_PATH: \"/data/something/entityK\" },\n",
    "        { ENTITY_NAME: \"entityL\", ENTITY_PATH: \"/data/something/entityL\" }\n",
    "    ],\n",
    "    tmp_inputs =\n",
    "    [\n",
    "        { ENTITY_NAME: \"entityM\" },\n",
    "        { ENTITY_NAME: \"entityN\" },\n",
    "    ],\n",
    "    tmp_outputs =\n",
    "    [\n",
    "        { ENTITY_NAME: \"entityF\" },\n",
    "        { ENTITY_NAME: \"entityG\" },\n",
    "        { ENTITY_NAME: \"entityH\" }\n",
    "    ]\n",
    ")\n",
    "\n",
    "substep.print_interface_info()\n",
    "\n",
    "substep.exit_in_visualize_mode()"
   ]
  },
  {
   "cell_type": "code",
   "execution_count": 4,
   "id": "55e950c3-3151-4daf-9b98-83d3aebe216d",
   "metadata": {
    "tags": []
   },
   "outputs": [
    {
     "name": "stdout",
     "output_type": "stream",
     "text": [
      "Session is run\n"
     ]
    },
    {
     "data": {
      "text/plain": [
       "'http://localhost:4040'"
      ]
     },
     "execution_count": 4,
     "metadata": {},
     "output_type": "execute_result"
    }
   ],
   "source": [
    "#4 run spark\n",
    "from sinara.spark import SinaraSpark\n",
    "\n",
    "spark = SinaraSpark.run_session(0)\n",
    "SinaraSpark.ui_url()"
   ]
  },
  {
   "cell_type": "code",
   "execution_count": 5,
   "id": "70b2d9b3-051c-424c-beec-9da8f177b4ed",
   "metadata": {
    "tags": []
   },
   "outputs": [
    {
     "name": "stderr",
     "output_type": "stream",
     "text": [
      "/usr/local/spark/python/pyspark/pandas/__init__.py:49: UserWarning: 'PYARROW_IGNORE_TIMEZONE' environment variable was not set. It is required to set this environment variable to '1' in both driver and executor sides if you use pyarrow>=2.0.0. pandas-on-Spark will set it for you but it does not work if there is a Spark context already launched.\n",
      "  warnings.warn(\n"
     ]
    }
   ],
   "source": [
    "#5 read inputs \n",
    "prev_step_inputs = substep.inputs(step_name=\"prev_step\")\n",
    "\n",
    "dfA = spark.read.parquet(prev_step_inputs.entityA).pandas_api()\n",
    "dfB = spark.read.parquet(prev_step_inputs.entityB).pandas_api()\n",
    "dfC = spark.read.parquet(prev_step_inputs.entityC).pandas_api()"
   ]
  },
  {
   "cell_type": "code",
   "execution_count": 6,
   "id": "04f8c516-079f-4473-8564-1cf66344872c",
   "metadata": {
    "tags": []
   },
   "outputs": [
    {
     "name": "stderr",
     "output_type": "stream",
     "text": [
      "/usr/local/spark/python/pyspark/pandas/utils.py:975: PandasAPIOnSparkAdviceWarning: If `index_col` is not specified for `to_spark`, the existing index is lost when converting to Spark DataFrame.\n",
      "  warnings.warn(message, PandasAPIOnSparkAdviceWarning)\n"
     ]
    }
   ],
   "source": [
    "#6 make something to create artifacts\n",
    "\n",
    "dfF = dfA.to_spark()\n",
    "dfG = dfB.to_spark()\n",
    "dfH = dfC.to_spark()"
   ]
  },
  {
   "cell_type": "code",
   "execution_count": 7,
   "id": "47c68c69-46d1-48d0-a239-fac8bf36c6fa",
   "metadata": {
    "tags": []
   },
   "outputs": [],
   "source": [
    "#7 write outputs\n",
    "outputs = substep.outputs()\n",
    "\n",
    "dfF.write.parquet(outputs.entityF, mode='overwrite')\n",
    "dfG.write.parquet(outputs.entityG, mode='overwrite')\n",
    "dfH.write.parquet(outputs.entityH, mode='overwrite')\n",
    "\n",
    "custom_outputs = substep.custom_outputs()\n",
    "custom_inputs = substep.custom_inputs()\n",
    "tmp_inputs = substep.tmp_inputs()\n",
    "tmp_outputs = substep.tmp_outputs()"
   ]
  },
  {
   "cell_type": "code",
   "execution_count": 8,
   "id": "82ef2430-57f2-42f4-a435-f50e1edd2c0b",
   "metadata": {
    "tags": []
   },
   "outputs": [],
   "source": [
    "#8 stop spark\n",
    "SinaraSpark.stop_session()"
   ]
  },
  {
   "cell_type": "code",
   "execution_count": null,
   "id": "2db4af6f-3c8c-42a2-b702-087c047579b0",
   "metadata": {},
   "outputs": [],
   "source": []
  }
 ],
 "metadata": {
  "kernelspec": {
   "display_name": "Python 3 (ipykernel)",
   "language": "python",
   "name": "python3"
  },
  "language_info": {
   "codemirror_mode": {
    "name": "ipython",
    "version": 3
   },
   "file_extension": ".py",
   "mimetype": "text/x-python",
   "name": "python",
   "nbconvert_exporter": "python",
   "pygments_lexer": "ipython3",
   "version": "3.10.9"
  }
 },
 "nbformat": 4,
 "nbformat_minor": 5
}
